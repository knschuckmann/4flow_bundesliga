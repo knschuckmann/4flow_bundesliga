{
  "nbformat": 4,
  "nbformat_minor": 0,
  "metadata": {
    "colab": {
      "name": "4flow_challenge.ipynb",
      "provenance": [],
      "collapsed_sections": [],
      "authorship_tag": "ABX9TyO/5wLySo/xmezF24WS0vVI",
      "include_colab_link": true
    },
    "kernelspec": {
      "name": "python3",
      "display_name": "Python 3"
    },
    "accelerator": "GPU"
  },
  "cells": [
    {
      "cell_type": "markdown",
      "metadata": {
        "id": "view-in-github",
        "colab_type": "text"
      },
      "source": [
        "<a href=\"https://colab.research.google.com/github/knschuckmann/4flow_bundesliga/blob/master/4flow_challenge.ipynb\" target=\"_parent\"><img src=\"https://colab.research.google.com/assets/colab-badge.svg\" alt=\"Open In Colab\"/></a>"
      ]
    },
    {
      "cell_type": "markdown",
      "metadata": {
        "id": "xpRv0r6WUdLJ"
      },
      "source": [
        "# 4flow Challenge\n",
        "\n",
        "We want to welcome everybody to the annual 4flow Challenge in Berlin.\n",
        "\n",
        "\n",
        "### Task\n",
        "You will split up in teams of x people and solve the given Excercise under our Instruction. For this purpose, we require:\n",
        "- Laptop\n",
        "- Google Drive account\n",
        "- Concentration\n",
        "- Teamwork\n",
        "\n",
        "### Goal\n",
        "To understand some minor machine learning algorithms through exercises and examine the possibilities of machine learning.\n",
        "\n",
        "\n",
        "## Excercise\n",
        "You will receive a dataset on Bundesliga results. Your task will be to display the dataset but moreover to predict the outcome of some matches."
      ]
    },
    {
      "cell_type": "markdown",
      "metadata": {
        "id": "OiHKyRYEV9Ct"
      },
      "source": [
        "⛔️  you will need to copy this Notebook to your own Google drive account\n",
        "\n",
        "1. Click on File in Menu \n",
        "2. Click on 'Save a copy in Drive' as shown below <br/>\n",
        "![copy File][2] \n",
        "\n",
        "3. A new Tab will be created, so you can start running this script.\n",
        "\n",
        "[2]: https://raw.githubusercontent.com/knschuckmann/4flow_bundesliga/master/pictures/Save.PNG\n",
        "\n",
        "\n",
        "\n"
      ]
    },
    {
      "cell_type": "markdown",
      "metadata": {
        "id": "HPxxbBAEbptN"
      },
      "source": [
        "## Data and Library load "
      ]
    },
    {
      "cell_type": "markdown",
      "metadata": {
        "id": "iK8Gq0hAbmSy"
      },
      "source": [
        "### ⚠️ How Colab works\n",
        "\n",
        "1. Colab is an online [Jupyter Notebook](https://jupyter.org/index.html), which can be accessed without any further installation\n",
        "2. By Connecting to a computation power source a new instance will be created. For now we will devote ourselves, that it works and not dive into details. <br/>\n",
        "![runtime][2]\n",
        "3. Clicking on the play Button in each Codefield, runs the code inside this Codefield. <br/>\n",
        "![run_o][3] <br/>\n",
        "Only if you hover on the area of the button you will be able to see the play button<br/> ![run_1][4]\n",
        "4. After you ran a cell you will see a number on the field, marking the order of the running  process  <br/>\n",
        "![run_1][5]\n",
        "4. # ⚠️ **Possible Errors**  \n",
        "  1. It is essential to follow the order of this Notebook and **run the Codefields one after the other**. the numbers will tell you if you forgot to run a field\n",
        "  2. Make sure you **copy and paste right**, without any white spaces. Especially in the feature selection part, it will be important to avoid this error \n",
        "\n",
        "[2]: https://raw.githubusercontent.com/knschuckmann/4flow_bundesliga/master/pictures/Runtime.PNG\n",
        "[3]: https://raw.githubusercontent.com/knschuckmann/4flow_bundesliga/master/pictures/Run_0.PNG\n",
        "[4]: https://raw.githubusercontent.com/knschuckmann/4flow_bundesliga/master/pictures/Run_1.PNG\n",
        "[5]: https://raw.githubusercontent.com/knschuckmann/4flow_bundesliga/master/pictures/Run_2.PNG"
      ]
    },
    {
      "cell_type": "markdown",
      "metadata": {
        "id": "L8OLOGxOgh9M"
      },
      "source": [
        "Start importing libraries and dataset by running every Code field sequentially"
      ]
    },
    {
      "cell_type": "code",
      "metadata": {
        "id": "ZDFUP2iSg8DT"
      },
      "source": [
        "# Import necessary libraries\n",
        "import pandas as pd\n",
        "import numpy as np\n",
        "import plotly.graph_objects as go\n",
        "from sklearn import preprocessing\n",
        "from sklearn.model_selection import train_test_split\n",
        "from sklearn.linear_model import LogisticRegression\n",
        "from sklearn.svm import SVC\n",
        "from sklearn.ensemble import RandomForestClassifier\n",
        "from sklearn.pipeline import Pipeline\n",
        "from sklearn.model_selection import GridSearchCV"
      ],
      "execution_count": null,
      "outputs": []
    },
    {
      "cell_type": "code",
      "metadata": {
        "id": "0LJCB0lliZjW"
      },
      "source": [
        "# declare static variables (urls)\n",
        "url_orig = 'https://raw.githubusercontent.com/knschuckmann/4flow_bundesliga/master/data/Bundesliga_Data_for_2018_2019.csv'\n",
        "url_goals = 'https://raw.githubusercontent.com/knschuckmann/4flow_bundesliga/master/data/goals.csv'"
      ],
      "execution_count": null,
      "outputs": []
    },
    {
      "cell_type": "markdown",
      "metadata": {
        "id": "ySxlxG_RxIv8"
      },
      "source": [
        "Here you will be able to see the output of the last line from the Code field. It will display the first four lines of the dataset, so that you can take a quick look at the data. \n",
        "#####Display"
      ]
    },
    {
      "cell_type": "code",
      "metadata": {
        "id": "AztczQ0bbd-F"
      },
      "source": [
        "# Load the dataset from Github link\n",
        "data = pd.read_csv(url_orig, delimiter=';', decimal=',')\n",
        "goals = pd.read_csv(url_goals, delimiter=';', decimal=',')\n",
        "# merge both CSV files to one dataset\n",
        "data = pd.merge(data, goals, on ='KEY')\n",
        "data.head()"
      ],
      "execution_count": null,
      "outputs": []
    },
    {
      "cell_type": "markdown",
      "metadata": {
        "id": "ox8HPVbzjFqy"
      },
      "source": [
        "## Understanding the dataset\n",
        "It is essential to understand the dataset and get all the necessary insights about it.\n",
        "\n",
        "What do the column headings mean? It would help if you described them one by one."
      ]
    },
    {
      "cell_type": "markdown",
      "metadata": {
        "id": "c5JoV9J4kLk4"
      },
      "source": [
        "**The following table explains the column headings**\n",
        "<br>\n",
        "<br>\n",
        "\n",
        "<table>\n",
        "  <tr>\n",
        "    <th>div</th>\n",
        "    <th>Date</th>\n",
        "    <th>HomeTeam</th>\n",
        "    <th>AwayTeam</th>\n",
        "    <th>KEY</th>\n",
        "    <th>Home_Team Size</th>\n",
        "    <th>Home_Market Value total</th>\n",
        "    <th>Home_Market Value avg</th>\n",
        "    <th>Away_Team Size</th>\n",
        "    <th>Away Market Value total</th>\n",
        "    <th>Away_Market Value avg</th>\n",
        "    <th>HS (Home Team Shots) </th>\n",
        "    <th>AS (Away Team Shots)</th>\n",
        "    <th>HAST (Home Team Shots on Target)</th>\n",
        "    <th>AST (Away Team Shots on Target)</th>\n",
        "    <th>HF (Home Team Fouls Committed)</th>\n",
        "    <th>AF (Away Team Fouls Committed)</th>\n",
        "    <th>HC (Home Team Corners)</th>\n",
        "    <th>AC (Away Team Corners)</th>\n",
        "    <th>HY (Home Team Yellow Cards)</th>\n",
        "    <th>AY (Away Team Yellow Cards)</th>\n",
        "    <th>HR (Home Team Red Cards)</th>\n",
        "    <th>AR (Away Team Red Cards)</th>\n",
        "    <th>Home #Win</th>\n",
        "    <th>Home #Draw</th>\n",
        "    <th>Home #Defeat</th>\n",
        "    <th>Away #Win</th>\n",
        "    <th>Away #Draw</th>\n",
        "    <th>Away #Defeat</th>\n",
        "    <th>Home goals scored</th>\n",
        "    <th>Home goals collected</th>\n",
        "    <th>Away goals scored</th>\n",
        "    <th>Away goals collected</th>\n",
        "    <th>Home Position in the table</th>\n",
        "    <th>Away Position in the table</th>\n",
        "    <th>FTHG (Full Time Home Team Goals)</th>\n",
        "    <th>FTAG (Full Time Away Team Goals)</th>\n",
        "    <th>FTR (Full Time Result)</th>\n",
        "    <th>HTHG (Half Time Home Team Goals)</th>\n",
        "    <th>HTAG (Half Time Away Team Goals)</th>\n",
        "    <th>HTR (Half Time Goals)</th>\n",
        "  </tr>\n",
        "  <tr>\n",
        "    <td>String: No definition</td>\n",
        "    <td>String: date of the game in dd.mm.yyyy format</td>\n",
        "    <td>String: Name of Home team</td>\n",
        "    <td>String: Name of Away team</td>\n",
        "    <td>String: Combined date_HomeTeam_AwayTeam unique key</td>\n",
        "    <td>integer: Size of Home team</td>\n",
        "    <td>Float: Market value of Home Team in million €</td>\n",
        "    <td>Float: Market average value of Home Team in million</td>\n",
        "    <td>Integer: Away team size</td>\n",
        "    <td>Float: Market value of Away Team in million €</td>\n",
        "    <td>Float: Market average value of Away Team in million</td>\n",
        "    <td>Integer: Total shots scored by Home Team in season</td>\n",
        "    <td>Integer: Total shots scored by Away Team in season</td>\n",
        "    <td>Integer: Total shots on goal scored by Home Team in season</td>\n",
        "    <td>Integer: Total shots on goal scored by Away Team in season</td>\n",
        "    <td>Integer: Total Fouls commited by Home Team in season</td>\n",
        "    <td>Integer: Total Fouls commited by Away Team in season</td>\n",
        "    <td>Integer: Total shots from corners by Home Team in season</td>\n",
        "    <td>Integer: Total shots from corners by Away Team in season</td>\n",
        "    <td>Integer: Total received yellow cards by Home Team in season</td>\n",
        "    <td>Integer: Total received yellow cards by Away Team in season</td>\n",
        "    <td>Integer: Total received red cards by Home Team in season</td>\n",
        "    <td>Integer: Total received red cards by Away Team in season</td>\n",
        "    <td>Integer: Total wins by Home Team in season</td>\n",
        "    <td>Integer: Total draws by Home Team in season</td>\n",
        "    <td>Integer: Total loosings by Home Team in season</td>\n",
        "    <td>Integer: Total wins by Away Team in season</td>\n",
        "    <td>Integer: Total draws by Away Team in season</td>\n",
        "    <td>Integer: Total loosings by Away Team in season</td>\n",
        "    <td>Integer: Total goals scored by Home Team in season</td>\n",
        "    <td>Integer: For Home Team total goals received in season</td>\n",
        "    <td>Integer: Total goals scored by Away Team in season</td>\n",
        "    <td>Integer: For Away Team total goals received in season</td>\n",
        "    <td>Integer: Home position in the table</td>\n",
        "    <td>Integer: Away position in the table</td>\n",
        "    <td>Integer: Home Team goals scored during match</td>\n",
        "    <td>Integer: Away Team goals scored during match</td>\n",
        "    <td>String: Home win/ Away Win/ Draw after match</td>\n",
        "    <td>Integer: Home Team goals scored until Half Time</td>\n",
        "    <td>Integer: Away Team goals scored until Half Time</td>\n",
        "    <td>String: Home win/ Away Win/ Draw until Half Time</td>\n",
        "  </tr>\n",
        "</table>\n",
        "\n"
      ]
    },
    {
      "cell_type": "markdown",
      "metadata": {
        "id": "PGCnZRLxafxT"
      },
      "source": [
        "We made some minor analysis of the dataset. The following images show some insights into the dataset. This is helpful in order to understand the data.\n",
        "\n",
        "The Overview page shows the overall picture of the dataset: How many variables, observations, etc. </br>\n",
        "![Overview][1]\n",
        "\n",
        "The crucial part is the displayed warnings section </br>\n",
        "![Warnings][2] </br>\n",
        "where you not only get the high cardinality, which could be used as the independent variable but more than that, you get correlation relationships between each feature. \n",
        "\n",
        "Now you can omit some high correlated columns or some important warnings by cleansing the dataset.\n",
        "\n",
        "\n",
        "[1]: https://raw.githubusercontent.com/knschuckmann/4flow_bundesliga/master/pictures/Overview.PNG\n",
        "[2]: https://raw.githubusercontent.com/knschuckmann/4flow_bundesliga/master/pictures/Warnings.PNG\n"
      ]
    },
    {
      "cell_type": "markdown",
      "metadata": {
        "id": "OLzlQZp1apSB"
      },
      "source": [
        "### Data cleansing"
      ]
    },
    {
      "cell_type": "markdown",
      "metadata": {
        "id": "WWNugDGxzQHq"
      },
      "source": [
        "1. Convert the date format from String to date format (Computer needs Date format and not Date in String format, compare with previous table print)\n",
        "2. Because some columns do not contain any information, we like to have them dropped out. One good example is the Div column, which consists only out of a constant. \n",
        "3. We also have a lot of correlated columns in this dataset. Sometimes it is redundant information. Especially when dealing with regression problems, highly correlated data should be omitted. We will do so for just a few columns, so you get the idea of it."
      ]
    },
    {
      "cell_type": "code",
      "metadata": {
        "id": "59T5VODDjOiM"
      },
      "source": [
        "# 1 dateformat\n",
        "data.Date = pd.to_datetime(data.Date, format= '%d.%m.%Y')\n",
        "# 2 drop Div column\n",
        "data = data.drop(['Div'], axis = 1)\n",
        "# 3 drop correlated\n",
        "data = data.drop(['Home_Market Value avg', 'Away_Market Value avg', 'HAST (Home Team Shots on Target)', 'AST (Away Team Shots on Target)','HC (Home Team Corners)', 'AC (Away Team Corners)'], axis = 1)\n",
        "\n",
        "# minor preprocessing requirements like sort data\n",
        "data = data.sort_values(by= 'Date')\n",
        "data = data.reset_index(drop=True)\n",
        "\n",
        "data.head()"
      ],
      "execution_count": null,
      "outputs": []
    },
    {
      "cell_type": "code",
      "metadata": {
        "id": "G4FsWx9t7HWW"
      },
      "source": [
        "data.loc[175]"
      ],
      "execution_count": null,
      "outputs": []
    },
    {
      "cell_type": "markdown",
      "metadata": {
        "id": "o4UuVGDxBjit"
      },
      "source": [
        "We still have some categorical values that we can use to transform into numerical, so we will be able to plot easier. At the very end of the printed image, you will find the created dummies and understand what we did."
      ]
    },
    {
      "cell_type": "code",
      "metadata": {
        "id": "3HU0XIWuByUm"
      },
      "source": [
        "# create dummy variable for Full Time Results and half Time Results \n",
        "data_dummies = pd.get_dummies(data, columns=['FTR (Full Time Result)'], prefix= 'FTR')\n",
        "data_dummies = pd.get_dummies(data_dummies, columns=['HTR (Half Time Result)'], prefix= 'HTR')\n",
        "data_dummies.head()"
      ],
      "execution_count": null,
      "outputs": []
    },
    {
      "cell_type": "markdown",
      "metadata": {
        "id": "FSGSEO0OrGsQ"
      },
      "source": [
        "Now that we have cleaned our data a bit, we can start exploring the dataset by plotting it. This requires some further data preparation. Here we will prepare a set so we can obtain the number of winnings or the overall sum of goals."
      ]
    },
    {
      "cell_type": "code",
      "metadata": {
        "id": "Hp1EcgXb-Pml"
      },
      "source": [
        "# create empty data frames\n",
        "data_goals = pd.DataFrame()\n",
        "data_win = pd.DataFrame()\n",
        "teams = data_dummies['HomeTeam'].unique()\n",
        "# fill empty dataframes with winning information and goals amount\n",
        "for team in teams:\n",
        "  data_win = data_win.append(data_dummies[data_dummies['HomeTeam'] == team][['HomeTeam','Home #Win', 'Home #Draw', 'Home #Defeat']].tail(1))\n",
        "  data_goals = data_goals.append(data_dummies[data_dummies['HomeTeam'] == team][['HomeTeam','Home goals scored','Home goals collected']].tail(1))\n",
        "data_win = data_win.reset_index(drop = True)\n",
        "data_goals = data_goals.reset_index(drop = True)"
      ],
      "execution_count": null,
      "outputs": []
    },
    {
      "cell_type": "markdown",
      "metadata": {
        "id": "P3k8tYLBT8ca"
      },
      "source": [
        "Here you can take a quick look at the datasets \n",
        "1. Wins \n",
        "2. Goals"
      ]
    },
    {
      "cell_type": "code",
      "metadata": {
        "id": "nhGbksu2GWok"
      },
      "source": [
        "data_win.head()"
      ],
      "execution_count": null,
      "outputs": []
    },
    {
      "cell_type": "code",
      "metadata": {
        "id": "jObvttaJGW25"
      },
      "source": [
        "data_goals.head()"
      ],
      "execution_count": null,
      "outputs": []
    },
    {
      "cell_type": "markdown",
      "metadata": {
        "id": "e06Fb6p_u8ny"
      },
      "source": [
        "All preparation is done, and we can start to display the dataset. The goal is to find some insights through the plots.\n",
        "\n",
        "We use a very nice and straightforward library called plotly, which allows us to play around and hide some variables if required.\n",
        "\n",
        "You will find an interactive legend on the right side of the plot, and you can play around by clicking on the legends headings. If we do so, we will find a correlation of Home Team Goals with the factor of how many times the Team won a match."
      ]
    },
    {
      "cell_type": "code",
      "metadata": {
        "id": "nP9BP6654VlG"
      },
      "source": [
        "# Create traces\n",
        "fig = go.Figure()\n",
        "fig.add_trace(go.Scatter(x=data_win.HomeTeam.unique(), y=data_win['Home #Win'],\n",
        "                    mode='lines',\n",
        "                    name= 'Home_Win_amount'))\n",
        "fig.add_trace(go.Scatter(x=data_win.HomeTeam.unique(), y=data_win['Home #Draw'],\n",
        "                    mode='lines',\n",
        "                    name= 'Home_Draw_amount'))\n",
        "fig.add_trace(go.Scatter(x=data_win.HomeTeam.unique(), y=data_win['Home #Defeat'],\n",
        "                    mode='lines',\n",
        "                    name= 'Home_Defeat_amount'))\n",
        "fig.add_trace(go.Scatter(x=data_goals.HomeTeam.unique(), y=data_goals['Home goals scored'],\n",
        "                    mode='lines',\n",
        "                    name= 'Home_Goals_scored'))\n",
        "fig.add_trace(go.Scatter(x=data_goals.HomeTeam.unique(), y=data_goals['Home goals collected'],\n",
        "                    mode='lines',\n",
        "                    name= 'Home_Goals_collected'))\n",
        "fig.update_layout(yaxis_title=\"total values\")\n",
        "fig.show()"
      ],
      "execution_count": null,
      "outputs": []
    },
    {
      "cell_type": "markdown",
      "metadata": {
        "id": "kniTvKDlE5cI"
      },
      "source": [
        "The output of the plot above shows the actual amount (a number) of either winning, draw or defeat of one Team compared to each other as well as the goals scored and collected. "
      ]
    },
    {
      "cell_type": "markdown",
      "metadata": {
        "id": "JSeRVEp7upKI"
      },
      "source": [
        "Sometimes you have data that can not be compared to each other because of the scale. So you could scale everything into a normal distribution with the scale function from the library Sklearn. This normalizes any dataset to the standard deviation $N(\\mu,\\sigma^2)$ with mean equal to zero and variance equal to one.\n",
        "\n",
        "What we will see is that the average value of teams is correlated to the total value, which is not really impressive, but in order to compare datasets, it is a useful realization.\n"
      ]
    },
    {
      "cell_type": "code",
      "metadata": {
        "id": "f9yvJ76XsRQX"
      },
      "source": [
        "fig = go.Figure()\n",
        "fig.add_trace(go.Scatter(x=data_dummies.HomeTeam.unique(), y=preprocessing.scale(data_dummies['Home_Team Size']),\n",
        "                    mode='lines + markers',\n",
        "                    name= 'scaled team size'))\n",
        "fig.add_trace(go.Scatter(x=data_dummies.HomeTeam.unique(), y=preprocessing.scale(data_dummies['Home_Market Value total']),\n",
        "                    mode='lines + markers',\n",
        "                    name= 'scaled total value'))\n",
        "fig.add_trace(go.Scatter(x=data_win.HomeTeam, y=preprocessing.scale(data_win['Home #Win']),\n",
        "                    mode='markers',\n",
        "                    name= 'scaled Home win amount'))\n",
        "fig.update_layout(yaxis_title=\"scaled values\")\n",
        "fig.show()"
      ],
      "execution_count": null,
      "outputs": []
    },
    {
      "cell_type": "markdown",
      "metadata": {
        "id": "iXCqUBBN96_m"
      },
      "source": [
        "The figure above also shows some fascinating insights. Especially if you take a look at FC Bayern München, you will see that the proportion of the team size and the team value is completely different than for all other teams. Nevertheless, FC Bayern München won many matches. Borussia Dortmund is another team that has a similar proportion to FC Bayern München."
      ]
    },
    {
      "cell_type": "markdown",
      "metadata": {
        "id": "tp2-x6-eDAHN"
      },
      "source": [
        "## Machine learning Algorithms\n",
        "\n",
        "There are many algorithms out there, but mostly you will be working with a hand full of them. \n",
        "\n",
        "1. First, you need to make sure what to predict. In order to do so, one needs a good question or a statement to start with. **Predict a result of a certain game!**\n",
        "\n",
        "2. Secondly, you will need to decide if you want to predict a category or a numerical number. This can be done by looking at the variable you want to predict. In our case, it is a  classification problem. Therefore we will concentrate on classification algorithms.\n",
        "\n",
        "3. We need to separate our data into a training and a test set.\n",
        "  - The training set will be used to train the model \n",
        "  - The test set will be used to validate the model and get the goodness of our trained model\n",
        "\n",
        "**So let's start predicting for real now...**"
      ]
    },
    {
      "cell_type": "code",
      "metadata": {
        "id": "Vs7rhxVcywI-"
      },
      "source": [
        "# calculate the number of testing values\n",
        "size_test = int(data.shape[0]*0.2)\n",
        "\n",
        "# create dummy data for better representation of original data\n",
        "dummy_data = pd.get_dummies(data, columns=['HomeTeam'], prefix= 'Home')\n",
        "dummy_data = pd.get_dummies(dummy_data, columns=['AwayTeam'], prefix= 'Away')\n",
        "\n",
        "# get rid of categorical data \n",
        "dummy_data = dummy_data[dummy_data.columns.difference(['HTR (Half Time Result)', 'FTR (Full Time Result)', 'Date', 'KEY'])]"
      ],
      "execution_count": null,
      "outputs": []
    },
    {
      "cell_type": "markdown",
      "metadata": {
        "id": "jpKbIXa1OcTb"
      },
      "source": [
        "**Goal:**</br>\n",
        "The goal is to find the best model by choosing different features from the following displayed once  \n",
        "1. Choose a maximum of **12 features** for further calculation and prediction\n",
        "  * You will be able to repeat this step over and over until you find the best result \n",
        "\n",
        "Example of some features:</br>\n",
        "'AF (Away Team Fouls Committed)', 'AR (Away Team Red Cards)', 'AS (Away Team Shots)', 'AY (Away Team Yellow Cards)', 'Away #Defeat', 'Away #Draw', 'Away #Win', ...\n",
        "\n",
        "Following all features by running the code:"
      ]
    },
    {
      "cell_type": "code",
      "metadata": {
        "id": "yFG6I4UWa94b"
      },
      "source": [
        "dummy_data.columns"
      ],
      "execution_count": null,
      "outputs": []
    },
    {
      "cell_type": "markdown",
      "metadata": {
        "id": "_iy_oD4Fb5Kq"
      },
      "source": [
        "Lets play around and find the best features for our prediction. \n",
        "\n",
        "⚠️ Copy some features above and put them into the brackets below dummy_data[[ 'feature1', 'feature2', 'feature3' ]]. </br>\n",
        "Try to choose wisely and make sure to **copy-paste right**</br>\n",
        "\n",
        "⛔️ After you get the result, you will be able to start over from here with different features to improve your model. Just choose different features and run the cells again.\n",
        "\n",
        "## Loop start"
      ]
    },
    {
      "cell_type": "code",
      "metadata": {
        "id": "7PNg9DYeb291"
      },
      "source": [
        "# choose features and insert and cretae a new dataframe with the chosen features  \n",
        "dummy_data_1 = dummy_data[[\" delete this and copy features from above like 'Home_Werder Bremen' and separate by comma \"]]"
      ],
      "execution_count": null,
      "outputs": []
    },
    {
      "cell_type": "code",
      "metadata": {
        "id": "gMO_plA17gyt"
      },
      "source": [
        "# initialize the test and training data\n",
        "X_train = dummy_data_1[:-size_test]\n",
        "X_test = dummy_data_1[-size_test:]"
      ],
      "execution_count": null,
      "outputs": []
    },
    {
      "cell_type": "markdown",
      "metadata": {
        "id": "bC38R3pFbdR-"
      },
      "source": [
        "⚠️ The mapping of the dependent variable y is as follows,\n",
        "* 2 = Home Win\n",
        "* 1 = Draw\n",
        "*  0 = Away Win"
      ]
    },
    {
      "cell_type": "code",
      "metadata": {
        "id": "P_bsk_hk1eVV"
      },
      "source": [
        "# code the prediction variable and initialize the prediction set\n",
        "# 2 = Home Win, 1 = Draw, 0 = Away Win\n",
        "y = data['FTR (Full Time Result)']\n",
        "y = y.astype('category').cat.codes\n",
        "y_train = y[:-size_test]\n",
        "y_test = y[-size_test:]"
      ],
      "execution_count": null,
      "outputs": []
    },
    {
      "cell_type": "markdown",
      "metadata": {
        "id": "p1gk-HcmCt-H"
      },
      "source": [
        "Here we begin to predict the outcome of any given match. Therefore we need to use some Machine learning algorithms. The most common once we use in the upcoming prediction are:\n",
        "\n",
        "\n",
        "1.   **[Logistic Regression][log]**\n",
        "2.   **[Support Vector Machines][SVM]**\n",
        "3.   **[Random Forrest][RF]**\n",
        "\n",
        "Those are state of the art for classification problems. Later on, we will try to improve our results. The displayed table gives a good insight into the prediction. You will have the original result on the very right and the predictions on the left. </br>\n",
        "Remember: </br>\n",
        "* 0 = Away Win\n",
        "* 1 = Draw\n",
        "* 2 = Home Win\n",
        "[log]: https://www.empirical-methods.hslu.ch/entscheidbaum/zusammenhaenge/logistische-regression/\n",
        "[SVM]: https://towardsdatascience.com/support-vector-machine-introduction-to-machine-learning-algorithms-934a444fca47\n",
        "[RF]: https://towardsdatascience.com/an-implementation-and-explanation-of-the-random-forest-in-python-77bf308a9b76\n",
        "\n"
      ]
    },
    {
      "cell_type": "code",
      "metadata": {
        "id": "wpGu52Y_pyJI"
      },
      "source": [
        "# Logistic Regression for classification \n",
        "lr = LogisticRegression(random_state=0, max_iter= 10000).fit(X_train, y_train) \n",
        "result_lr = lr.predict(X_test)\n",
        "\n",
        "# Support Vector Machines for classification \n",
        "svm = SVC(random_state=0).fit(X_train, y_train)\n",
        "result_svm = svm.predict(X_test)\n",
        "\n",
        "# Randoom Forrst for classification \n",
        "rf = RandomForestClassifier(random_state = 0).fit(X_train,y_train)\n",
        "result_rf = rf.predict(X_test)\n",
        "\n",
        "# concat all results together with the original results\n",
        "result_lr = pd.DataFrame(result_lr, columns= ['pred_lr'])\n",
        "result_svm = pd.DataFrame(result_svm, columns= ['pred_svm'])\n",
        "result_rf = pd.DataFrame(result_rf, columns= ['pred_rf'])\n",
        "result_org = pd.DataFrame(y_test.values,  columns= ['orig'])\n",
        "\n",
        "result = pd.concat([result_lr, result_svm, result_rf, result_org],1)\n",
        "result\n"
      ],
      "execution_count": null,
      "outputs": []
    },
    {
      "cell_type": "markdown",
      "metadata": {
        "id": "ra5TmVgkE2x5"
      },
      "source": [
        "Let's plot the results so we can actually get the predictions and grasp them. \n",
        "We will plot the differences between the algorithm predictions and the original result as well as the original result. </br>\n",
        "Formula: </br>\n",
        "$|\\text{predicted} - \\text{original}|$\n",
        "\n",
        "**Differences:**\n",
        "* 0 := prediction same as the original result\n",
        "* 1, 2 := wrong prediction "
      ]
    },
    {
      "cell_type": "code",
      "metadata": {
        "id": "FJQD2ppG3Gno"
      },
      "source": [
        "fig = go.Figure()\n",
        "fig.add_trace(go.Scatter(x=abs(result.pred_lr - result.orig), y= data.KEY[-size_test:],\n",
        "                    mode='markers',\n",
        "                    name= 'difference_lr_orig'))\n",
        "fig.add_trace(go.Scatter(x=abs(result.pred_svm - result.orig), y= data.KEY[-size_test:],\n",
        "                    mode='markers',\n",
        "                    name= 'difference_svm_orig'))\n",
        "fig.add_trace(go.Scatter(x=abs(result.pred_rf - result.orig), y= data.KEY[-size_test:],\n",
        "                    mode='markers',\n",
        "                    name= 'difference_rf_orig'))\n",
        "fig.add_trace(go.Scatter(x= result.orig , y=data.KEY[-size_test:],\n",
        "                    mode='markers',\n",
        "                    name= 'original'))\n",
        "fig.show()"
      ],
      "execution_count": null,
      "outputs": []
    },
    {
      "cell_type": "markdown",
      "metadata": {
        "id": "_cNVOKeZD74L"
      },
      "source": [
        "The Table and the Plot above are already good indicators for the goodness, but the actual scores, calculated by a simple rule of thumb where you divide right predicted by the actual number of sample, is a better indicator for the goodness of the algorithm.\n",
        "\n",
        "**For the best result, try to improve only one of the following 3 values** </br>\n",
        "⚠️ Following, the prediction results:"
      ]
    },
    {
      "cell_type": "code",
      "metadata": {
        "id": "t3AtM849O2MF"
      },
      "source": [
        "temp = {'lr': [lr.score(X_test, y_test)], \n",
        "        'svm': [svm.score(X_test, y_test)], \n",
        "        'rf': [rf.score(X_test, y_test)]\n",
        "        }\n",
        "\n",
        "old_scores = pd.DataFrame(temp)\n",
        "old_scores"
      ],
      "execution_count": null,
      "outputs": []
    },
    {
      "cell_type": "markdown",
      "metadata": {
        "id": "F7uvpXQFrH-i"
      },
      "source": [
        "## Loop end \n",
        "\n",
        "If you found the best result, make sure that it is reproducible by running the loop one last time and getting the same results as before. </br>\n",
        "\n",
        "Now download the .ipynb file and send it to us, by clicking on Download .ipynb</br>\n",
        "![download][1] \n",
        "\n",
        "\n",
        "[1]: https://raw.githubusercontent.com/knschuckmann/4flow_bundesliga/master/pictures/Download.PNG"
      ]
    }
  ]
}
